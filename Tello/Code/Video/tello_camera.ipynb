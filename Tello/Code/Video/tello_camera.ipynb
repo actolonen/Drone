{
 "cells": [
  {
   "cell_type": "markdown",
   "id": "d0dae9d6",
   "metadata": {},
   "source": [
    "# Tello video capture\n",
    "\n",
    "Code to activate capture video using Tello drone"
   ]
  },
  {
   "cell_type": "code",
   "execution_count": 4,
   "id": "ac7d7959",
   "metadata": {},
   "outputs": [],
   "source": [
    "# Libraries\n",
    "from djitellopy import tello\n",
    "import cv2"
   ]
  },
  {
   "cell_type": "markdown",
   "id": "3064fbdd",
   "metadata": {},
   "source": [
    "Function to control video"
   ]
  },
  {
   "cell_type": "code",
   "execution_count": 5,
   "id": "bca21eab",
   "metadata": {},
   "outputs": [],
   "source": [
    "# Function to control video\n",
    "def tello_video(my_drone):\n",
    "    \"\"\" video for tello object\"\"\"\n",
    "    while True:\n",
    "        # get frame\n",
    "        frame = my_drone.get_frame_read().frame \n",
    "        # display frame\n",
    "        cv2.imshow(\"Camera\", frame) \n",
    "        # wait for 1 ms, break loop if 'q' pressed\n",
    "        if cv2.waitKey(1) & 0xFF == ord('q'):\n",
    "            break\n",
    "    cv2.destroyAllWindows()"
   ]
  },
  {
   "cell_type": "markdown",
   "id": "ca1cb588",
   "metadata": {},
   "source": [
    "Main program"
   ]
  },
  {
   "cell_type": "code",
   "execution_count": 7,
   "id": "b1c740d3",
   "metadata": {},
   "outputs": [
    {
     "name": "stderr",
     "output_type": "stream",
     "text": [
      "[INFO] tello.py - 129 - Tello instance was initialized. Host: '192.168.10.1'. Port: '8889'.\n",
      "[INFO] tello.py - 438 - Send command: 'command'\n",
      "[INFO] tello.py - 462 - Response command: 'ok'\n",
      "[INFO] tello.py - 438 - Send command: 'streamon'\n",
      "[INFO] tello.py - 462 - Response streamon: 'ok'\n"
     ]
    },
    {
     "name": "stdout",
     "output_type": "stream",
     "text": [
      "battery level = 81\n"
     ]
    },
    {
     "name": "stderr",
     "output_type": "stream",
     "text": [
      "qt.qpa.plugin: Could not find the Qt platform plugin \"wayland\" in \"/home/tolonen/.local/share/mamba/envs/tello/lib/python3.13/site-packages/cv2/qt/plugins\"\n",
      "[INFO] tello.py - 438 - Send command: 'streamoff'\n",
      "[INFO] tello.py - 462 - Response streamoff: 'ok'\n"
     ]
    }
   ],
   "source": [
    "# initiate  Tello instance of tello object\n",
    "my_drone = tello.Tello()\n",
    "\n",
    "# establish connection with drone\n",
    "my_drone.connect()\n",
    "\n",
    "# print battery level\n",
    "battery_level = my_drone.get_battery()\n",
    "print(f\"battery level = {battery_level}\")\n",
    "\n",
    "# turn on video stream\n",
    "my_drone.streamon()\n",
    "\n",
    "# call tello_video function\n",
    "tello_video(my_drone)\n",
    "\n",
    "# drqone lands, streamoff, stop instance\n",
    "my_drone.end()"
   ]
  }
 ],
 "metadata": {
  "kernelspec": {
   "display_name": "tello",
   "language": "python",
   "name": "python3"
  },
  "language_info": {
   "codemirror_mode": {
    "name": "ipython",
    "version": 3
   },
   "file_extension": ".py",
   "mimetype": "text/x-python",
   "name": "python",
   "nbconvert_exporter": "python",
   "pygments_lexer": "ipython3",
   "version": "3.13.5"
  }
 },
 "nbformat": 4,
 "nbformat_minor": 5
}
