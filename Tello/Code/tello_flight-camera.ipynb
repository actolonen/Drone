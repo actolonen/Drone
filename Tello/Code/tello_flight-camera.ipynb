{
 "cells": [
  {
   "cell_type": "markdown",
   "id": "b0a96cd9",
   "metadata": {},
   "source": [
    "# Tello flight and video\n",
    "\n",
    "Code to activate camera and then launch simple flight plan"
   ]
  },
  {
   "cell_type": "markdown",
   "id": "f589fdfe",
   "metadata": {},
   "source": [
    "Libraries"
   ]
  },
  {
   "cell_type": "code",
   "execution_count": null,
   "id": "2db7fed1",
   "metadata": {},
   "outputs": [],
   "source": [
    "from djitellopy import Tello\n",
    "import cv2"
   ]
  },
  {
   "cell_type": "markdown",
   "id": "86dc72a3",
   "metadata": {},
   "source": [
    "Function to control video"
   ]
  },
  {
   "cell_type": "code",
   "execution_count": null,
   "id": "08124a6d",
   "metadata": {},
   "outputs": [],
   "source": [
    "# Function to control video\n",
    "def tello_video(my_drone):\n",
    "    while True:\n",
    "        # get frame\n",
    "        frame = my_drone.get_frame_read().frame \n",
    "        # display frame\n",
    "        cv2.imshow(\"Camera\", frame) \n",
    "        # wait for 1 ms\n",
    "        if cv2.waitKey(1) & 0xFF == ord('q'):\n",
    "            break\n",
    "    cv2.destroyAllWindows()\n",
    "    \n",
    "    # drone lands, streamoff, stop instance\n",
    "    drone.end()"
   ]
  },
  {
   "cell_type": "markdown",
   "id": "2ab45bee",
   "metadata": {},
   "source": [
    "Function to control flight"
   ]
  },
  {
   "cell_type": "code",
   "execution_count": null,
   "id": "d83c5634",
   "metadata": {},
   "outputs": [],
   "source": [
    "def tello_flight(my_drone):\n",
    "        my_drone.takeoff()\n",
    "        my_drone.move_left(20)\n",
    "        my_drone.rotate_clockwise(90)\n",
    "        my_drone.land()"
   ]
  },
  {
   "cell_type": "markdown",
   "id": "bb49bbd3",
   "metadata": {},
   "source": [
    "Main program"
   ]
  },
  {
   "cell_type": "code",
   "execution_count": null,
   "id": "115141c1",
   "metadata": {},
   "outputs": [],
   "source": [
    "# initiate  Tello instance of tello object\n",
    "my_drone = tello.Tello()\n",
    "\n",
    "# establish connection with drone\n",
    "my_drone.connect()\n",
    "\n",
    "# print battery level\n",
    "battery_level = my_drone.get_battery()\n",
    "print(f\"battery level = {battery_level}\")\n",
    "\n",
    "# turn on video stream\n",
    "my_drone.streamon()\n",
    "\n",
    "# call tello_video function\n",
    "tello_video(my_drone)\n",
    "\n",
    "# tello flight routine\n",
    "tello_flight(my_drone)\n",
    "\n",
    "# drone lands, streamoff, stop instance\n",
    "my_drone.end()"
   ]
  }
 ],
 "metadata": {
  "kernelspec": {
   "display_name": "tello",
   "language": "python",
   "name": "python3"
  },
  "language_info": {
   "codemirror_mode": {
    "name": "ipython",
    "version": 3
   },
   "file_extension": ".py",
   "mimetype": "text/x-python",
   "name": "python",
   "nbconvert_exporter": "python",
   "pygments_lexer": "ipython3",
   "version": "3.13.2"
  }
 },
 "nbformat": 4,
 "nbformat_minor": 5
}
