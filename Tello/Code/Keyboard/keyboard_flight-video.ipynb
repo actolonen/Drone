{
 "cells": [
  {
   "cell_type": "markdown",
   "id": "da0e56c4",
   "metadata": {},
   "source": [
    "# Control drone flight using keyboard\n",
    "\n",
    "Control flight of tello drone using keyboard inputs."
   ]
  },
  {
   "cell_type": "markdown",
   "id": "c8c65331",
   "metadata": {},
   "source": [
    "Import libraries"
   ]
  },
  {
   "cell_type": "code",
   "execution_count": null,
   "id": "dae3e39c",
   "metadata": {},
   "outputs": [],
   "source": [
    "import pygame  # keyboard input handling\n",
    "import djitellopy as tello \n",
    "from time import sleep\n",
    "import threading\n",
    "import cv2  # Import OpenCV for video frame operations"
   ]
  },
  {
   "cell_type": "markdown",
   "id": "06a22e84",
   "metadata": {},
   "source": [
    "Function to return value of pressed key"
   ]
  },
  {
   "cell_type": "code",
   "execution_count": 2,
   "id": "c2da639a",
   "metadata": {},
   "outputs": [],
   "source": [
    "def get_pressed_key():\n",
    "    \"\"\"Return the name of the key pressed, or None if no key is pressed.\"\"\"\n",
    "    for event in pygame.event.get():\n",
    "        if event.type == pygame.KEYDOWN:\n",
    "            return pygame.key.name(event.key)\n",
    "        else:\n",
    "            return None"
   ]
  },
  {
   "cell_type": "markdown",
   "id": "39a1c839",
   "metadata": {},
   "source": [
    "Function to translate pressed key into flight command"
   ]
  },
  {
   "cell_type": "code",
   "execution_count": 3,
   "id": "257a21c6",
   "metadata": {},
   "outputs": [],
   "source": [
    "def translate_pressed_key(my_key):\n",
    "    \"\"\"translate keys into drone motions\"\"\"\n",
    "\n",
    "    # move up/down and turn right/left\n",
    "    if my_key == \"left\":\n",
    "        my_drone.rotate_clockwise(90)\n",
    "    if my_key == \"right\":\n",
    "        my_drone.rotate_counter_clockwise(90)\n",
    "    if my_key == \"up\":\n",
    "        my_drone.move_up(20)\n",
    "    if my_key == \"down\":\n",
    "        my_drone.move_down(20)\n",
    "\n",
    "    # move forward/back\n",
    "    if my_key == \"f\":\n",
    "        my_drone.move_forward(20)\n",
    "    if my_key == \"a\":\n",
    "        my_drone.move_back(20)\n",
    "\n",
    "    # land\n",
    "    if my_key == \"q\": # land = q\n",
    "        my_drone.end()"
   ]
  },
  {
   "cell_type": "markdown",
   "id": "65ca8fe7",
   "metadata": {},
   "source": [
    "Function to control flight routine"
   ]
  },
  {
   "cell_type": "code",
   "execution_count": 4,
   "id": "656f18e0",
   "metadata": {},
   "outputs": [],
   "source": [
    "def flight_routine(my_drone):\n",
    "    print(\"waiting for event to signal video stream readiness\")\n",
    "    stream_ready.wait()\n",
    "\n",
    "    print(\"event signaled for video stream readiness\")\n",
    "    \n",
    "    # control take off\n",
    "    running = True\n",
    "    while running:\n",
    "        my_key = get_pressed_key()\n",
    "        print(my_key)\n",
    "        if my_key == \"e\":  #\n",
    "            my_drone.takeoff()\n",
    "            running = False\n",
    "        sleep(0.05)  # sleep for 50 ms\n",
    "\n",
    "    # control flight program with keys\n",
    "    running = True\n",
    "    while running:\n",
    "        my_key = get_pressed_key()\n",
    "        print(my_key)\n",
    "        translate_pressed_key(my_key)\n",
    "        sleep(0.05)  # sleep for 50 ms\n",
    "        if my_key == \"q\":\n",
    "            running = False\n"
   ]
  },
  {
   "cell_type": "markdown",
   "id": "c54cbabc",
   "metadata": {},
   "source": [
    "Function to get sensor data"
   ]
  },
  {
   "cell_type": "code",
   "execution_count": 5,
   "id": "7ab6835c",
   "metadata": {},
   "outputs": [],
   "source": [
    "def get_status_data(my_drone):\n",
    "    \"\"\"Acquire other status data and return as dictionary\"\"\"\n",
    "    status_data = {\n",
    "        'flight_time':my_drone.get_flight_time(),\n",
    "        'battery':my_drone.get_battery(),\n",
    "        'height':my_drone.get_height(),\n",
    "        'tof':my_drone.get_distance_tof(),\n",
    "        'temph':my_drone.get_highest_temperature(),\n",
    "        'barometer':my_drone.get_barometer()\n",
    "    }\n",
    "    return(status_data)"
   ]
  },
  {
   "cell_type": "markdown",
   "id": "67992269",
   "metadata": {},
   "source": [
    "Function to control vide streaming"
   ]
  },
  {
   "cell_type": "code",
   "execution_count": 6,
   "id": "a1858c12",
   "metadata": {},
   "outputs": [],
   "source": [
    "def stream_video(my_drone):\n",
    "    while True:\n",
    "    # get sensor data \n",
    "        my_status_data = get_status_data(my_drone)\n",
    "\n",
    "        frame = my_drone.get_frame_read().frame\n",
    "\n",
    "        # print sensor data to screen\n",
    "        cv2.putText(frame, \"Battery \" + str(my_status_data['battery']) + \" percent\", (10, 20), \n",
    "                cv2.FONT_HERSHEY_COMPLEX_SMALL, 1, (0, 234, 255), 1,2)\n",
    "        \n",
    "        cv2.imshow('tello stream', frame)\n",
    "\n",
    "        # Check if streaming ready. \n",
    "        if not stream_ready.is_set():\n",
    "\n",
    "            # Signal that video streaming is ready\n",
    "            stream_ready.set()\n",
    "            print(\"Event Signal Set: Stream is live.\")\n",
    "\n",
    "        if cv2.waitKey(1) & 0xFF == ord('q'):\n",
    "            break\n",
    "        \n",
    "    cv2.destroyAllWindows()"
   ]
  },
  {
   "cell_type": "markdown",
   "id": "2e830132",
   "metadata": {},
   "source": [
    "## Main program"
   ]
  },
  {
   "cell_type": "code",
   "execution_count": null,
   "id": "33ba7d12",
   "metadata": {},
   "outputs": [],
   "source": [
    "# initialize pygame modules (for keyboard input)\n",
    "pygame.init() \n",
    "window = pygame.display.set_mode((400, 400))\n",
    "\n",
    "# create event object from threading module (object = module.function())\n",
    "stream_ready = threading.Event()\n",
    "\n",
    "# Initialize my_drone as tello object, connect to it, and turn its video stream on.\n",
    "my_drone = tello.Tello() # object = instance.Class()\n",
    "my_drone.connect()\n",
    "my_drone.streamon()\n",
    "print(\"drone connected and stream on. Starting video stream thread.\\n\")\n",
    "\n",
    "# set stream_video as thread target\n",
    "stream_thread = threading.Thread(target=stream_video, args=(my_drone,))\n",
    "\n",
    "# Set thread as a daemon and start it\n",
    "stream_thread.daemon = True\n",
    "stream_thread.start()\n",
    "\n",
    "# Execute the flight routine\n",
    "flight_routine(my_drone)\n",
    "\n",
    "print(\"Flight routine ended. Rebooting drone.\")\n",
    "\n",
    "# Reboot the drone at the end\n",
    "drone.reboot()\n",
    "\n",
    "pygame.quit()"
   ]
  }
 ],
 "metadata": {
  "kernelspec": {
   "display_name": "tello",
   "language": "python",
   "name": "python3"
  },
  "language_info": {
   "codemirror_mode": {
    "name": "ipython",
    "version": 3
   },
   "file_extension": ".py",
   "mimetype": "text/x-python",
   "name": "python",
   "nbconvert_exporter": "python",
   "pygments_lexer": "ipython3",
   "version": "3.13.5"
  }
 },
 "nbformat": 4,
 "nbformat_minor": 5
}
