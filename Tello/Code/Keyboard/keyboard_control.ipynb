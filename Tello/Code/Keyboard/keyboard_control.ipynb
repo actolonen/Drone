{
 "cells": [
  {
   "cell_type": "markdown",
   "id": "da0e56c4",
   "metadata": {},
   "source": [
    "# Control drone with keyboard input\n",
    "\n",
    "Control tello with keyboard input"
   ]
  },
  {
   "cell_type": "markdown",
   "id": "c8c65331",
   "metadata": {},
   "source": [
    "Import libraries"
   ]
  },
  {
   "cell_type": "code",
   "execution_count": 1,
   "id": "dae3e39c",
   "metadata": {},
   "outputs": [
    {
     "name": "stderr",
     "output_type": "stream",
     "text": [
      "<frozen importlib._bootstrap>:488: RuntimeWarning: Your system is avx2 capable but pygame was not built with support for it. The performance of some of your blits could be adversely affected. Consider enabling compile time detection with environment variables like PYGAME_DETECT_AVX2=1 if you are compiling without cross compilation.\n"
     ]
    },
    {
     "name": "stdout",
     "output_type": "stream",
     "text": [
      "pygame 2.6.1 (SDL 2.32.54, Python 3.13.5)\n",
      "Hello from the pygame community. https://www.pygame.org/contribute.html\n"
     ]
    }
   ],
   "source": [
    "import pygame\n",
    "import djitellopy as tello \n",
    "from time import sleep"
   ]
  },
  {
   "cell_type": "markdown",
   "id": "06a22e84",
   "metadata": {},
   "source": [
    "Function to return value of pressed key"
   ]
  },
  {
   "cell_type": "code",
   "execution_count": 2,
   "id": "c2da639a",
   "metadata": {},
   "outputs": [],
   "source": [
    "def get_pressed_key():\n",
    "    \"\"\"Return the name of the key pressed, or None if no key is pressed.\"\"\"\n",
    "    for event in pygame.event.get():\n",
    "        if event.type == pygame.KEYDOWN:\n",
    "            return pygame.key.name(event.key)\n",
    "        else:\n",
    "            return None"
   ]
  },
  {
   "cell_type": "markdown",
   "id": "39a1c839",
   "metadata": {},
   "source": [
    "Function to translate pressed key to drone command"
   ]
  },
  {
   "cell_type": "code",
   "execution_count": 3,
   "id": "257a21c6",
   "metadata": {},
   "outputs": [],
   "source": [
    "def translate_pressed_key(my_key):\n",
    "    \"\"\"translate keys into drone motions\"\"\"\n",
    "\n",
    "    # move up/down and turn right/left\n",
    "    if my_key == \"left\":\n",
    "        my_drone.rotate_clockwise(90)\n",
    "    if my_key == \"right\":\n",
    "        my_drone.rotate_counter_clockwise(90)\n",
    "    if my_key == \"up\":\n",
    "        my_drone.move_up(20)\n",
    "    if my_key == \"down\":\n",
    "        my_drone.move_down(20)\n",
    "\n",
    "    # move forward/back\n",
    "    if my_key == \"f\":\n",
    "        my_drone.move_forward(20)\n",
    "    if my_key == \"a\":\n",
    "        my_drone.move_back(20)\n",
    "\n",
    "    # land\n",
    "    if my_key == \"q\": # land = q\n",
    "        my_drone.end()"
   ]
  },
  {
   "cell_type": "markdown",
   "id": "2e830132",
   "metadata": {},
   "source": [
    "## Main program"
   ]
  },
  {
   "cell_type": "code",
   "execution_count": null,
   "id": "33ba7d12",
   "metadata": {},
   "outputs": [
    {
     "name": "stderr",
     "output_type": "stream",
     "text": [
      "[INFO] tello.py - 129 - Tello instance was initialized. Host: '192.168.10.1'. Port: '8889'.\n",
      "[INFO] tello.py - 438 - Send command: 'command'\n",
      "[INFO] tello.py - 462 - Response command: 'ok'\n"
     ]
    },
    {
     "name": "stdout",
     "output_type": "stream",
     "text": [
      "None\n",
      "None\n",
      "None\n",
      "None\n",
      "None\n",
      "None\n",
      "None\n",
      "None\n"
     ]
    },
    {
     "name": "stderr",
     "output_type": "stream",
     "text": [
      "[INFO] tello.py - 438 - Send command: 'takeoff'\n",
      "[INFO] tello.py - 462 - Response takeoff: 'error'\n",
      "[INFO] tello.py - 438 - Send command: 'takeoff'\n",
      "[INFO] tello.py - 462 - Response takeoff: 'error'\n",
      "[INFO] tello.py - 438 - Send command: 'takeoff'\n",
      "[INFO] tello.py - 462 - Response takeoff: 'error'\n"
     ]
    },
    {
     "name": "stdout",
     "output_type": "stream",
     "text": [
      "e\n"
     ]
    },
    {
     "ename": "TelloException",
     "evalue": "Command 'takeoff' was unsuccessful for 4 tries. Latest response:\t'error'",
     "output_type": "error",
     "traceback": [
      "\u001b[31m---------------------------------------------------------------------------\u001b[39m",
      "\u001b[31mTelloException\u001b[39m                            Traceback (most recent call last)",
      "\u001b[36mCell\u001b[39m\u001b[36m \u001b[39m\u001b[32mIn[4]\u001b[39m\u001b[32m, line 15\u001b[39m\n\u001b[32m     13\u001b[39m \u001b[38;5;28mprint\u001b[39m(my_key)\n\u001b[32m     14\u001b[39m \u001b[38;5;28;01mif\u001b[39;00m my_key == \u001b[33m\"\u001b[39m\u001b[33me\u001b[39m\u001b[33m\"\u001b[39m:\n\u001b[32m---> \u001b[39m\u001b[32m15\u001b[39m     \u001b[43mmy_drone\u001b[49m\u001b[43m.\u001b[49m\u001b[43mtakeoff\u001b[49m\u001b[43m(\u001b[49m\u001b[43m)\u001b[49m\n\u001b[32m     16\u001b[39m     \u001b[38;5;28;01mbreak\u001b[39;00m\n\u001b[32m     17\u001b[39m sleep(\u001b[32m0.5\u001b[39m)  \u001b[38;5;66;03m# sleep for 50 ms\u001b[39;00m\n",
      "\u001b[36mFile \u001b[39m\u001b[32m~/.local/share/mamba/envs/tello/lib/python3.13/site-packages/djitellopy/enforce_types.py:54\u001b[39m, in \u001b[36menforce_types.<locals>.decorate.<locals>.wrapper\u001b[39m\u001b[34m(*args, **kwargs)\u001b[39m\n\u001b[32m     51\u001b[39m \u001b[38;5;129m@wraps\u001b[39m(func)\n\u001b[32m     52\u001b[39m \u001b[38;5;28;01mdef\u001b[39;00m\u001b[38;5;250m \u001b[39m\u001b[34mwrapper\u001b[39m(*args, **kwargs):\n\u001b[32m     53\u001b[39m     check_types(spec, *args, **kwargs)\n\u001b[32m---> \u001b[39m\u001b[32m54\u001b[39m     \u001b[38;5;28;01mreturn\u001b[39;00m \u001b[43mfunc\u001b[49m\u001b[43m(\u001b[49m\u001b[43m*\u001b[49m\u001b[43margs\u001b[49m\u001b[43m,\u001b[49m\u001b[43m \u001b[49m\u001b[43m*\u001b[49m\u001b[43m*\u001b[49m\u001b[43mkwargs\u001b[49m\u001b[43m)\u001b[49m\n",
      "\u001b[36mFile \u001b[39m\u001b[32m~/.local/share/mamba/envs/tello/lib/python3.13/site-packages/djitellopy/tello.py:575\u001b[39m, in \u001b[36mTello.takeoff\u001b[39m\u001b[34m(self)\u001b[39m\n\u001b[32m    571\u001b[39m \u001b[38;5;250m\u001b[39m\u001b[33;03m\"\"\"Automatic takeoff.\u001b[39;00m\n\u001b[32m    572\u001b[39m \u001b[33;03m\"\"\"\u001b[39;00m\n\u001b[32m    573\u001b[39m \u001b[38;5;66;03m# Something it takes a looooot of time to take off and return a succesful takeoff.\u001b[39;00m\n\u001b[32m    574\u001b[39m \u001b[38;5;66;03m# So we better wait. Otherwise, it would give us an error on the following calls.\u001b[39;00m\n\u001b[32m--> \u001b[39m\u001b[32m575\u001b[39m \u001b[38;5;28;43mself\u001b[39;49m\u001b[43m.\u001b[49m\u001b[43msend_control_command\u001b[49m\u001b[43m(\u001b[49m\u001b[33;43m\"\u001b[39;49m\u001b[33;43mtakeoff\u001b[39;49m\u001b[33;43m\"\u001b[39;49m\u001b[43m,\u001b[49m\u001b[43m \u001b[49m\u001b[43mtimeout\u001b[49m\u001b[43m=\u001b[49m\u001b[43mTello\u001b[49m\u001b[43m.\u001b[49m\u001b[43mTAKEOFF_TIMEOUT\u001b[49m\u001b[43m)\u001b[49m\n\u001b[32m    576\u001b[39m \u001b[38;5;28mself\u001b[39m.is_flying = \u001b[38;5;28;01mTrue\u001b[39;00m\n",
      "\u001b[36mFile \u001b[39m\u001b[32m~/.local/share/mamba/envs/tello/lib/python3.13/site-packages/djitellopy/enforce_types.py:54\u001b[39m, in \u001b[36menforce_types.<locals>.decorate.<locals>.wrapper\u001b[39m\u001b[34m(*args, **kwargs)\u001b[39m\n\u001b[32m     51\u001b[39m \u001b[38;5;129m@wraps\u001b[39m(func)\n\u001b[32m     52\u001b[39m \u001b[38;5;28;01mdef\u001b[39;00m\u001b[38;5;250m \u001b[39m\u001b[34mwrapper\u001b[39m(*args, **kwargs):\n\u001b[32m     53\u001b[39m     check_types(spec, *args, **kwargs)\n\u001b[32m---> \u001b[39m\u001b[32m54\u001b[39m     \u001b[38;5;28;01mreturn\u001b[39;00m \u001b[43mfunc\u001b[49m\u001b[43m(\u001b[49m\u001b[43m*\u001b[49m\u001b[43margs\u001b[49m\u001b[43m,\u001b[49m\u001b[43m \u001b[49m\u001b[43m*\u001b[49m\u001b[43m*\u001b[49m\u001b[43mkwargs\u001b[49m\u001b[43m)\u001b[49m\n",
      "\u001b[36mFile \u001b[39m\u001b[32m~/.local/share/mamba/envs/tello/lib/python3.13/site-packages/djitellopy/tello.py:487\u001b[39m, in \u001b[36mTello.send_control_command\u001b[39m\u001b[34m(self, command, timeout)\u001b[39m\n\u001b[32m    483\u001b[39m         \u001b[38;5;28;01mreturn\u001b[39;00m \u001b[38;5;28;01mTrue\u001b[39;00m\n\u001b[32m    485\u001b[39m     \u001b[38;5;28mself\u001b[39m.LOGGER.debug(\u001b[33m\"\u001b[39m\u001b[33mCommand attempt #\u001b[39m\u001b[38;5;132;01m{}\u001b[39;00m\u001b[33m failed for command: \u001b[39m\u001b[33m'\u001b[39m\u001b[38;5;132;01m{}\u001b[39;00m\u001b[33m'\u001b[39m\u001b[33m\"\u001b[39m.format(i, command))\n\u001b[32m--> \u001b[39m\u001b[32m487\u001b[39m \u001b[38;5;28;43mself\u001b[39;49m\u001b[43m.\u001b[49m\u001b[43mraise_result_error\u001b[49m\u001b[43m(\u001b[49m\u001b[43mcommand\u001b[49m\u001b[43m,\u001b[49m\u001b[43m \u001b[49m\u001b[43mresponse\u001b[49m\u001b[43m)\u001b[49m\n\u001b[32m    488\u001b[39m \u001b[38;5;28;01mreturn\u001b[39;00m \u001b[38;5;28;01mFalse\u001b[39;00m\n",
      "\u001b[36mFile \u001b[39m\u001b[32m~/.local/share/mamba/envs/tello/lib/python3.13/site-packages/djitellopy/enforce_types.py:54\u001b[39m, in \u001b[36menforce_types.<locals>.decorate.<locals>.wrapper\u001b[39m\u001b[34m(*args, **kwargs)\u001b[39m\n\u001b[32m     51\u001b[39m \u001b[38;5;129m@wraps\u001b[39m(func)\n\u001b[32m     52\u001b[39m \u001b[38;5;28;01mdef\u001b[39;00m\u001b[38;5;250m \u001b[39m\u001b[34mwrapper\u001b[39m(*args, **kwargs):\n\u001b[32m     53\u001b[39m     check_types(spec, *args, **kwargs)\n\u001b[32m---> \u001b[39m\u001b[32m54\u001b[39m     \u001b[38;5;28;01mreturn\u001b[39;00m \u001b[43mfunc\u001b[49m\u001b[43m(\u001b[49m\u001b[43m*\u001b[49m\u001b[43margs\u001b[49m\u001b[43m,\u001b[49m\u001b[43m \u001b[49m\u001b[43m*\u001b[49m\u001b[43m*\u001b[49m\u001b[43mkwargs\u001b[49m\u001b[43m)\u001b[49m\n",
      "\u001b[36mFile \u001b[39m\u001b[32m~/.local/share/mamba/envs/tello/lib/python3.13/site-packages/djitellopy/tello.py:529\u001b[39m, in \u001b[36mTello.raise_result_error\u001b[39m\u001b[34m(self, command, response)\u001b[39m\n\u001b[32m    525\u001b[39m \u001b[38;5;250m\u001b[39m\u001b[33;03m\"\"\"Used to reaise an error after an unsuccessful command\u001b[39;00m\n\u001b[32m    526\u001b[39m \u001b[33;03mInternal method, you normally wouldn't call this yourself.\u001b[39;00m\n\u001b[32m    527\u001b[39m \u001b[33;03m\"\"\"\u001b[39;00m\n\u001b[32m    528\u001b[39m tries = \u001b[32m1\u001b[39m + \u001b[38;5;28mself\u001b[39m.retry_count\n\u001b[32m--> \u001b[39m\u001b[32m529\u001b[39m \u001b[38;5;28;01mraise\u001b[39;00m TelloException(\u001b[33m\"\u001b[39m\u001b[33mCommand \u001b[39m\u001b[33m'\u001b[39m\u001b[38;5;132;01m{}\u001b[39;00m\u001b[33m'\u001b[39m\u001b[33m was unsuccessful for \u001b[39m\u001b[38;5;132;01m{}\u001b[39;00m\u001b[33m tries. Latest response:\u001b[39m\u001b[38;5;130;01m\\t\u001b[39;00m\u001b[33m'\u001b[39m\u001b[38;5;132;01m{}\u001b[39;00m\u001b[33m'\u001b[39m\u001b[33m\"\u001b[39m\n\u001b[32m    530\u001b[39m                      .format(command, tries, response))\n",
      "\u001b[31mTelloException\u001b[39m: Command 'takeoff' was unsuccessful for 4 tries. Latest response:\t'error'"
     ]
    },
    {
     "ename": "",
     "evalue": "",
     "output_type": "error",
     "traceback": [
      "\u001b[1;31mThe Kernel crashed while executing code in the current cell or a previous cell. \n",
      "\u001b[1;31mPlease review the code in the cell(s) to identify a possible cause of the failure. \n",
      "\u001b[1;31mClick <a href='https://aka.ms/vscodeJupyterKernelCrash'>here</a> for more info. \n",
      "\u001b[1;31mView Jupyter <a href='command:jupyter.viewOutput'>log</a> for further details."
     ]
    }
   ],
   "source": [
    "# initialize pygame modules (for keyboard input)\n",
    "pygame.init() \n",
    "\n",
    "window = pygame.display.set_mode((400, 400))\n",
    "\n",
    "my_drone = tello.Tello()\n",
    "my_drone.connect()\n",
    "\n",
    "# launch drone when 'q' pressed\n",
    "running = True\n",
    "while running:\n",
    "    my_key = get_pressed_key()\n",
    "    print(my_key)\n",
    "    if my_key == \"e\":\n",
    "        my_drone.takeoff()\n",
    "        break\n",
    "    sleep(0.5)  # sleep for 50 ms\n",
    "    pygame.display.update()\n",
    "\n",
    "# control flight program with keys\n",
    "running = True\n",
    "while running:\n",
    "    my_key = get_pressed_key()\n",
    "    print(my_key)\n",
    "    translate_pressed_key(my_key)\n",
    "    sleep(0.5)  # sleep for 50 ms\n",
    "    if my_key == \"q\":\n",
    "        running = False\n",
    "    pygame.display.update()\n",
    "\n",
    "pygame.quit()"
   ]
  }
 ],
 "metadata": {
  "kernelspec": {
   "display_name": "tello",
   "language": "python",
   "name": "python3"
  },
  "language_info": {
   "codemirror_mode": {
    "name": "ipython",
    "version": 3
   },
   "file_extension": ".py",
   "mimetype": "text/x-python",
   "name": "python",
   "nbconvert_exporter": "python",
   "pygments_lexer": "ipython3",
   "version": "3.13.5"
  }
 },
 "nbformat": 4,
 "nbformat_minor": 5
}
