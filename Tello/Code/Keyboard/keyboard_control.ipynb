{
 "cells": [
  {
   "cell_type": "markdown",
   "id": "da0e56c4",
   "metadata": {},
   "source": [
    "# Control drone with keyboard input\n",
    "\n",
    "Control tello with keyboard input"
   ]
  },
  {
   "cell_type": "markdown",
   "id": "c8c65331",
   "metadata": {},
   "source": [
    "Import libraries"
   ]
  },
  {
   "cell_type": "code",
   "execution_count": 1,
   "id": "dae3e39c",
   "metadata": {},
   "outputs": [
    {
     "name": "stdout",
     "output_type": "stream",
     "text": [
      "pygame 2.6.1 (SDL 2.32.54, Python 3.13.5)\n",
      "Hello from the pygame community. https://www.pygame.org/contribute.html\n"
     ]
    },
    {
     "name": "stderr",
     "output_type": "stream",
     "text": [
      "<frozen importlib._bootstrap>:488: RuntimeWarning: Your system is avx2 capable but pygame was not built with support for it. The performance of some of your blits could be adversely affected. Consider enabling compile time detection with environment variables like PYGAME_DETECT_AVX2=1 if you are compiling without cross compilation.\n"
     ]
    }
   ],
   "source": [
    "import pygame\n",
    "import djitellopy as tello \n",
    "from time import sleep"
   ]
  },
  {
   "cell_type": "markdown",
   "id": "06a22e84",
   "metadata": {},
   "source": [
    "Function to return value of pressed key"
   ]
  },
  {
   "cell_type": "code",
   "execution_count": 2,
   "id": "c2da639a",
   "metadata": {},
   "outputs": [],
   "source": [
    "def get_pressed_key():\n",
    "    \"\"\"Return the name of the key pressed, or None if no key is pressed.\"\"\"\n",
    "    for event in pygame.event.get():\n",
    "        if event.type == pygame.KEYDOWN:\n",
    "            return pygame.key.name(event.key)\n",
    "        else:\n",
    "            return None"
   ]
  },
  {
   "cell_type": "markdown",
   "id": "39a1c839",
   "metadata": {},
   "source": [
    "Function to translate pressed key to drone command"
   ]
  },
  {
   "cell_type": "code",
   "execution_count": 3,
   "id": "257a21c6",
   "metadata": {},
   "outputs": [],
   "source": [
    "def translate_pressed_key(my_key):\n",
    "    \"\"\"translate keys into drone motions\"\"\"\n",
    "\n",
    "    # take off\n",
    "    if my_key == \"e\": # takeoff = e\n",
    "        my_drone.takeoff()\n",
    "    \n",
    "    # move up/down and turn right/left\n",
    "    if my_key == \"left\":\n",
    "        my_drone.rotate_clockwise(90)\n",
    "    if my_key == \"right\":\n",
    "        my_drone.rotate_counter_clockwise(90)\n",
    "    if my_key == \"up\":\n",
    "        my_drone.move_up(20)\n",
    "    if my_key == \"down\":\n",
    "        my_drone.move_down(20)\n",
    "\n",
    "    # move forward/back\n",
    "    if my_key == \"f\":\n",
    "        my_drone.move_forward(20)\n",
    "    if my_key == \"a\":\n",
    "        my_drone.move_back(20)\n",
    "\n",
    "    # land\n",
    "    if my_key == \"q\": # land = q\n",
    "        my_drone.end()"
   ]
  },
  {
   "cell_type": "markdown",
   "id": "2e830132",
   "metadata": {},
   "source": [
    "## Main program"
   ]
  },
  {
   "cell_type": "code",
   "execution_count": null,
   "id": "33ba7d12",
   "metadata": {},
   "outputs": [],
   "source": [
    "# initialize pygame modules (for keyboard input)\n",
    "pygame.init() \n",
    "\n",
    "window = pygame.display.set_mode((400, 400))\n",
    "\n",
    "my_drone = tello.Tello()\n",
    "my_drone.connect()\n",
    "\n",
    "running = True\n",
    "while running:\n",
    "    my_key = get_pressed_key()\n",
    "    print(my_key)\n",
    "    translate_pressed_key(my_key)\n",
    "    sleep(0.5)  # sleep for 50 ms\n",
    "    if my_key == \"q\":\n",
    "        running = False\n",
    "    pygame.display.update()\n",
    "\n",
    "pygame.quit()"
   ]
  }
 ],
 "metadata": {
  "kernelspec": {
   "display_name": "tello",
   "language": "python",
   "name": "python3"
  },
  "language_info": {
   "codemirror_mode": {
    "name": "ipython",
    "version": 3
   },
   "file_extension": ".py",
   "mimetype": "text/x-python",
   "name": "python",
   "nbconvert_exporter": "python",
   "pygments_lexer": "ipython3",
   "version": "3.13.5"
  }
 },
 "nbformat": 4,
 "nbformat_minor": 5
}
