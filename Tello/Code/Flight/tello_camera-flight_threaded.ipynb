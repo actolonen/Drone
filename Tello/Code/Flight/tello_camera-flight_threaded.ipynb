{
 "cells": [
  {
   "cell_type": "markdown",
   "id": "0365fb67",
   "metadata": {},
   "source": [
    "# Tello drone flight with simultaneous video capture\n",
    "\n",
    "# Introduction\n",
    "\n",
    "The strategy is described in this [video tutorial](https://www.youtube.com/watch?v=HYJ3vcHG4jY&list=PLAu6u02VrrtzcivPSOqV5EHZWqmUyEX2o&index=10) by Jacob Pitsenberger with code from [this github repo](https://github.com/Jacob-Pitsenberger/Tello-Flight-Routine-with-Video-Stream)\n",
    "\n",
    "This code uses threading to execute a flight routine with simultaneous video streaming. \n",
    "* Two functions run at the same time: call video_streaming() as a target thread, implement it as a daemon so it runs in the background.\n",
    "* Control timing of function execution: define an event object: flight_routine() waits for variable in video_streaming() to indicate it is ready\n"
   ]
  },
  {
   "cell_type": "markdown",
   "id": "a73d1993",
   "metadata": {},
   "source": [
    "# Setup"
   ]
  },
  {
   "cell_type": "code",
   "execution_count": 1,
   "id": "d57b0d72",
   "metadata": {},
   "outputs": [],
   "source": [
    "import threading # threading to have to functions execute simultaneously\n",
    "from djitellopy import tello  # djitellopy: drone interaction: tello class to define drone object\n",
    "import cv2  # Import OpenCV for video frame operations"
   ]
  },
  {
   "cell_type": "markdown",
   "id": "8a1738dd",
   "metadata": {},
   "source": [
    "# Functions"
   ]
  },
  {
   "cell_type": "markdown",
   "id": "f2e8f032",
   "metadata": {},
   "source": [
    "Function to define flight routine"
   ]
  },
  {
   "cell_type": "code",
   "execution_count": 2,
   "id": "44e69963",
   "metadata": {},
   "outputs": [],
   "source": [
    "def flight_routine(my_drone):\n",
    "    print(\"waiting for event to signal video stream readiness\")\n",
    "    stream_ready.wait()\n",
    "\n",
    "    print(\"event signaled for video stream readiness\")\n",
    "\n",
    "    # Send the takeoff command, movement commands, and lastly, the land command\n",
    "    print(\"takeoff\\n\")\n",
    "    my_drone.takeoff()\n",
    "    print(\"move forward\\n\")\n",
    "    my_drone.move_forward(20) # move forward 20 cm\n",
    "    print(\"move up\\n\")\n",
    "    my_drone.move_up(20)\n",
    "    print(\"move back\\n\")\n",
    "    my_drone.move_back(20)\n",
    "    print(\"move down\\n\")\n",
    "    my_drone.move_down(20)\n",
    "    print(\"rotate CW\\n\")\n",
    "    my_drone.rotate_clockwise(180)\n",
    "    print(\"rotate CCW\\n\")\n",
    "    my_drone.rotate_counter_clockwise(180)\n",
    "    print(\"land\")\n",
    "    my_drone.land()"
   ]
  },
  {
   "cell_type": "markdown",
   "id": "8ae36a22",
   "metadata": {},
   "source": [
    "Function to get sensory data (battery level)"
   ]
  },
  {
   "cell_type": "code",
   "execution_count": 3,
   "id": "f5e61856",
   "metadata": {},
   "outputs": [],
   "source": [
    "def get_status_data(my_drone):\n",
    "    \"\"\"Acquire other status data and return as dictionary\"\"\"\n",
    "    status_data = {\n",
    "        'flight_time':my_drone.get_flight_time(),\n",
    "        'battery':my_drone.get_battery(),\n",
    "        'height':my_drone.get_height(),\n",
    "        'tof':my_drone.get_distance_tof(),\n",
    "        'temph':my_drone.get_highest_temperature(),\n",
    "        'barometer':my_drone.get_barometer()\n",
    "    }\n",
    "    return(status_data)"
   ]
  },
  {
   "cell_type": "markdown",
   "id": "62290343",
   "metadata": {},
   "source": [
    "Function to control video streaming"
   ]
  },
  {
   "cell_type": "code",
   "execution_count": 4,
   "id": "48981e10",
   "metadata": {},
   "outputs": [],
   "source": [
    "def stream_video(my_drone):\n",
    "    while True:\n",
    "    # get sensor data \n",
    "        my_status_data = get_status_data(my_drone)\n",
    "\n",
    "        frame = my_drone.get_frame_read().frame\n",
    "\n",
    "        # print sensor data to screen\n",
    "        cv2.putText(frame, \"Battery \" + str(my_status_data['battery']) + \" percent\", (10, 20), \n",
    "                cv2.FONT_HERSHEY_COMPLEX_SMALL, 1, (0, 234, 255), 1,2)\n",
    "        \n",
    "        cv2.imshow('tello stream', frame)\n",
    "\n",
    "        # Check if streaming ready. \n",
    "        if not stream_ready.is_set():\n",
    "\n",
    "            # Signal that video streaming is ready\n",
    "            stream_ready.set()\n",
    "            print(\"Event Signal Set: Stream is live.\")\n",
    "\n",
    "        if cv2.waitKey(1) & 0xFF == ord('q'):\n",
    "            break\n",
    "        \n",
    "    cv2.destroyAllWindows()"
   ]
  },
  {
   "cell_type": "markdown",
   "id": "1b1cf4ae",
   "metadata": {},
   "source": [
    "# Main program\n",
    "\n",
    "Execute flight routine with video. type 'q' to quit"
   ]
  },
  {
   "cell_type": "code",
   "execution_count": null,
   "id": "379021ad",
   "metadata": {},
   "outputs": [],
   "source": [
    "# create event object from threading module (object = module.function())\n",
    "stream_ready = threading.Event()\n",
    "\n",
    "# Initialize my_drone as tello object, connect to it, and turn its video stream on.\n",
    "my_drone = tello.Tello() # object = instance.Class()\n",
    "my_drone.connect()\n",
    "my_drone.streamon()\n",
    "print(\"drone connected and stream on. Starting video stream thread.\\n\")\n",
    "\n",
    "# set stream_video as thread target\n",
    "stream_thread = threading.Thread(target=stream_video, args=(my_drone,))\n",
    "\n",
    "# Set thread as a daemon and start it\n",
    "stream_thread.daemon = True\n",
    "stream_thread.start()\n",
    "\n",
    "# Execute the qflight routine\n",
    "flight_routine(my_drone)\n",
    "\n",
    "print(\"Flight routine ended. Rebooting drone now...\")\n",
    "\n",
    "# Reboot the drone at the end\n",
    "drone.reboot()"
   ]
  }
 ],
 "metadata": {
  "kernelspec": {
   "display_name": "tello",
   "language": "python",
   "name": "python3"
  },
  "language_info": {
   "codemirror_mode": {
    "name": "ipython",
    "version": 3
   },
   "file_extension": ".py",
   "mimetype": "text/x-python",
   "name": "python",
   "nbconvert_exporter": "python",
   "pygments_lexer": "ipython3",
   "version": "3.13.5"
  }
 },
 "nbformat": 4,
 "nbformat_minor": 5
}
