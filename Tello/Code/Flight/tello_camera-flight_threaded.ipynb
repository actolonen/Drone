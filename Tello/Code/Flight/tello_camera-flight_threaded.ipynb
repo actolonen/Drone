{
 "cells": [
  {
   "cell_type": "markdown",
   "id": "0365fb67",
   "metadata": {},
   "source": [
    "# Tello drone flight with simultaneous video capture\n",
    "\n",
    "# Introduction\n",
    "\n",
    "The strategy is described in this [video tutorial](https://www.youtube.com/watch?v=HYJ3vcHG4jY&list=PLAu6u02VrrtzcivPSOqV5EHZWqmUyEX2o&index=10) by Jacob Pitsenberger with code from [this github repo](https://github.com/Jacob-Pitsenberger/Tello-Flight-Routine-with-Video-Stream)\n",
    "\n",
    "This code uses threading to execute a flight routine with simultaneous video streaming. \n",
    "* Two functions run at the same time: call video_streaming() as a target thread, implement it as a daemon so it runs in the background.\n",
    "* Control timing of function execution: define an event object: flight_routine() waits for variable in video_streaming() to indicate it is ready\n"
   ]
  },
  {
   "cell_type": "markdown",
   "id": "a73d1993",
   "metadata": {},
   "source": [
    "# Setup"
   ]
  },
  {
   "cell_type": "code",
   "execution_count": 1,
   "id": "d57b0d72",
   "metadata": {},
   "outputs": [],
   "source": [
    "import threading # threading to have to functions execute simultaneously\n",
    "from djitellopy import tello  # djitellopy: drone interaction: tello class to define drone object\n",
    "import cv2  # Import OpenCV for video frame operations"
   ]
  },
  {
   "cell_type": "markdown",
   "id": "8a1738dd",
   "metadata": {},
   "source": [
    "# Functions"
   ]
  },
  {
   "cell_type": "markdown",
   "id": "f2e8f032",
   "metadata": {},
   "source": [
    "Function to define flight routine"
   ]
  },
  {
   "cell_type": "code",
   "execution_count": 2,
   "id": "44e69963",
   "metadata": {},
   "outputs": [],
   "source": [
    "def flight_routine(my_drone):\n",
    "    print(\"waiting for event to signal video stream readiness\")\n",
    "    stream_ready.wait()\n",
    "\n",
    "    print(\"event signaled for video stream readiness\")\n",
    "\n",
    "    # Send the takeoff command, movement commands, and lastly, the land command\n",
    "    print(\"takeoff\\n\")\n",
    "    my_drone.takeoff()\n",
    "    print(\"move forward\\n\")\n",
    "    my_drone.move_forward(20) # move forward 20 cm\n",
    "    print(\"move up\\n\")\n",
    "    my_drone.move_up(20)\n",
    "    print(\"move back\\n\")\n",
    "    my_drone.move_back(20)\n",
    "    print(\"move down\\n\")\n",
    "    my_drone.move_down(20)\n",
    "    print(\"rotate CW\\n\")\n",
    "    my_drone.rotate_clockwise(180)\n",
    "    print(\"rotate CCW\\n\")\n",
    "    my_drone.rotate_counter_clockwise(180)\n",
    "    print(\"land\")\n",
    "    my_drone.land()"
   ]
  },
  {
   "cell_type": "markdown",
   "id": "8ae36a22",
   "metadata": {},
   "source": [
    "Function to get sensory data (battery level)"
   ]
  },
  {
   "cell_type": "code",
   "execution_count": 3,
   "id": "f5e61856",
   "metadata": {},
   "outputs": [],
   "source": [
    "def get_status_data(my_drone):\n",
    "    \"\"\"Acquire other status data and return as dictionary\"\"\"\n",
    "    status_data = {\n",
    "        'flight_time':my_drone.get_flight_time(),\n",
    "        'battery':my_drone.get_battery(),\n",
    "        'height':my_drone.get_height(),\n",
    "        'tof':my_drone.get_distance_tof(),\n",
    "        'temph':my_drone.get_highest_temperature(),\n",
    "        'barometer':my_drone.get_barometer()\n",
    "    }\n",
    "    return(status_data)"
   ]
  },
  {
   "cell_type": "markdown",
   "id": "62290343",
   "metadata": {},
   "source": [
    "Function to control video streaming"
   ]
  },
  {
   "cell_type": "code",
   "execution_count": 4,
   "id": "48981e10",
   "metadata": {},
   "outputs": [],
   "source": [
    "def stream_video(my_drone):\n",
    "    while True:\n",
    "    # get sensor data \n",
    "        my_status_data = get_status_data(my_drone)\n",
    "\n",
    "        frame = my_drone.get_frame_read().frame\n",
    "\n",
    "        # print sensor data to screen\n",
    "        cv2.putText(frame, \"Battery \" + str(my_status_data['battery']) + \" percent\", (10, 20), \n",
    "                cv2.FONT_HERSHEY_COMPLEX_SMALL, 1, (0, 234, 255), 1,2)\n",
    "        \n",
    "        cv2.imshow('tello stream', frame)\n",
    "\n",
    "        # Check if streaming ready. \n",
    "        if not stream_ready.is_set():\n",
    "\n",
    "            # Signal that video streaming is ready\n",
    "            stream_ready.set()\n",
    "            print(\"Event Signal Set: Stream is live.\")\n",
    "\n",
    "        if cv2.waitKey(1) & 0xFF == ord('q'):\n",
    "            break\n",
    "        \n",
    "    cv2.destroyAllWindows()"
   ]
  },
  {
   "cell_type": "markdown",
   "id": "1b1cf4ae",
   "metadata": {},
   "source": [
    "# Main program\n",
    "\n",
    "Execute flight routine with video. type 'q' to quit"
   ]
  },
  {
   "cell_type": "code",
   "execution_count": 5,
   "id": "379021ad",
   "metadata": {},
   "outputs": [
    {
     "name": "stderr",
     "output_type": "stream",
     "text": [
      "[INFO] tello.py - 129 - Tello instance was initialized. Host: '192.168.10.1'. Port: '8889'.\n",
      "[INFO] tello.py - 438 - Send command: 'command'\n",
      "[INFO] tello.py - 462 - Response command: 'ok'\n",
      "[INFO] tello.py - 438 - Send command: 'streamon'\n",
      "[INFO] tello.py - 462 - Response streamon: 'ok'\n"
     ]
    },
    {
     "name": "stdout",
     "output_type": "stream",
     "text": [
      "drone connected and stream on. Starting video stream thread.\n",
      "\n",
      "waiting for event to signal video stream readiness\n"
     ]
    },
    {
     "name": "stderr",
     "output_type": "stream",
     "text": [
      "qt.qpa.plugin: Could not find the Qt platform plugin \"wayland\" in \"/home/tolonen/.local/share/mamba/envs/tello/lib/python3.13/site-packages/cv2/qt/plugins\"\n",
      "[INFO] tello.py - 438 - Send command: 'takeoff'\n",
      "[INFO] tello.py - 462 - Response takeoff: 'error'\n",
      "[INFO] tello.py - 438 - Send command: 'takeoff'\n",
      "[INFO] tello.py - 462 - Response takeoff: 'error'\n",
      "[INFO] tello.py - 438 - Send command: 'takeoff'\n",
      "[INFO] tello.py - 462 - Response takeoff: 'error'\n"
     ]
    },
    {
     "name": "stdout",
     "output_type": "stream",
     "text": [
      "Event Signal Set: Stream is live.\n",
      "event signaled for video stream readiness\n",
      "takeoff\n",
      "\n"
     ]
    },
    {
     "ename": "TelloException",
     "evalue": "Command 'takeoff' was unsuccessful for 4 tries. Latest response:\t'error'",
     "output_type": "error",
     "traceback": [
      "\u001b[31m---------------------------------------------------------------------------\u001b[39m",
      "\u001b[31mTelloException\u001b[39m                            Traceback (most recent call last)",
      "\u001b[36mCell\u001b[39m\u001b[36m \u001b[39m\u001b[32mIn[5]\u001b[39m\u001b[32m, line 18\u001b[39m\n\u001b[32m     15\u001b[39m stream_thread.start()\n\u001b[32m     17\u001b[39m \u001b[38;5;66;03m# Execute the flight routine\u001b[39;00m\n\u001b[32m---> \u001b[39m\u001b[32m18\u001b[39m \u001b[43mflight_routine\u001b[49m\u001b[43m(\u001b[49m\u001b[43mmy_drone\u001b[49m\u001b[43m)\u001b[49m\n\u001b[32m     20\u001b[39m \u001b[38;5;28mprint\u001b[39m(\u001b[33m\"\u001b[39m\u001b[33mFlight routine ended. Rebooting drone now...\u001b[39m\u001b[33m\"\u001b[39m)\n\u001b[32m     22\u001b[39m \u001b[38;5;66;03m# Reboot the drone at the end\u001b[39;00m\n",
      "\u001b[36mCell\u001b[39m\u001b[36m \u001b[39m\u001b[32mIn[2]\u001b[39m\u001b[32m, line 9\u001b[39m, in \u001b[36mflight_routine\u001b[39m\u001b[34m(my_drone)\u001b[39m\n\u001b[32m      7\u001b[39m \u001b[38;5;66;03m# Send the takeoff command, movement commands, and lastly, the land command\u001b[39;00m\n\u001b[32m      8\u001b[39m \u001b[38;5;28mprint\u001b[39m(\u001b[33m\"\u001b[39m\u001b[33mtakeoff\u001b[39m\u001b[38;5;130;01m\\n\u001b[39;00m\u001b[33m\"\u001b[39m)\n\u001b[32m----> \u001b[39m\u001b[32m9\u001b[39m \u001b[43mmy_drone\u001b[49m\u001b[43m.\u001b[49m\u001b[43mtakeoff\u001b[49m\u001b[43m(\u001b[49m\u001b[43m)\u001b[49m\n\u001b[32m     10\u001b[39m \u001b[38;5;28mprint\u001b[39m(\u001b[33m\"\u001b[39m\u001b[33mmove forward\u001b[39m\u001b[38;5;130;01m\\n\u001b[39;00m\u001b[33m\"\u001b[39m)\n\u001b[32m     11\u001b[39m my_drone.move_forward(\u001b[32m20\u001b[39m) \u001b[38;5;66;03m# move forward 20 cm\u001b[39;00m\n",
      "\u001b[36mFile \u001b[39m\u001b[32m~/.local/share/mamba/envs/tello/lib/python3.13/site-packages/djitellopy/enforce_types.py:54\u001b[39m, in \u001b[36menforce_types.<locals>.decorate.<locals>.wrapper\u001b[39m\u001b[34m(*args, **kwargs)\u001b[39m\n\u001b[32m     51\u001b[39m \u001b[38;5;129m@wraps\u001b[39m(func)\n\u001b[32m     52\u001b[39m \u001b[38;5;28;01mdef\u001b[39;00m\u001b[38;5;250m \u001b[39m\u001b[34mwrapper\u001b[39m(*args, **kwargs):\n\u001b[32m     53\u001b[39m     check_types(spec, *args, **kwargs)\n\u001b[32m---> \u001b[39m\u001b[32m54\u001b[39m     \u001b[38;5;28;01mreturn\u001b[39;00m \u001b[43mfunc\u001b[49m\u001b[43m(\u001b[49m\u001b[43m*\u001b[49m\u001b[43margs\u001b[49m\u001b[43m,\u001b[49m\u001b[43m \u001b[49m\u001b[43m*\u001b[49m\u001b[43m*\u001b[49m\u001b[43mkwargs\u001b[49m\u001b[43m)\u001b[49m\n",
      "\u001b[36mFile \u001b[39m\u001b[32m~/.local/share/mamba/envs/tello/lib/python3.13/site-packages/djitellopy/tello.py:575\u001b[39m, in \u001b[36mTello.takeoff\u001b[39m\u001b[34m(self)\u001b[39m\n\u001b[32m    571\u001b[39m \u001b[38;5;250m\u001b[39m\u001b[33;03m\"\"\"Automatic takeoff.\u001b[39;00m\n\u001b[32m    572\u001b[39m \u001b[33;03m\"\"\"\u001b[39;00m\n\u001b[32m    573\u001b[39m \u001b[38;5;66;03m# Something it takes a looooot of time to take off and return a succesful takeoff.\u001b[39;00m\n\u001b[32m    574\u001b[39m \u001b[38;5;66;03m# So we better wait. Otherwise, it would give us an error on the following calls.\u001b[39;00m\n\u001b[32m--> \u001b[39m\u001b[32m575\u001b[39m \u001b[38;5;28;43mself\u001b[39;49m\u001b[43m.\u001b[49m\u001b[43msend_control_command\u001b[49m\u001b[43m(\u001b[49m\u001b[33;43m\"\u001b[39;49m\u001b[33;43mtakeoff\u001b[39;49m\u001b[33;43m\"\u001b[39;49m\u001b[43m,\u001b[49m\u001b[43m \u001b[49m\u001b[43mtimeout\u001b[49m\u001b[43m=\u001b[49m\u001b[43mTello\u001b[49m\u001b[43m.\u001b[49m\u001b[43mTAKEOFF_TIMEOUT\u001b[49m\u001b[43m)\u001b[49m\n\u001b[32m    576\u001b[39m \u001b[38;5;28mself\u001b[39m.is_flying = \u001b[38;5;28;01mTrue\u001b[39;00m\n",
      "\u001b[36mFile \u001b[39m\u001b[32m~/.local/share/mamba/envs/tello/lib/python3.13/site-packages/djitellopy/enforce_types.py:54\u001b[39m, in \u001b[36menforce_types.<locals>.decorate.<locals>.wrapper\u001b[39m\u001b[34m(*args, **kwargs)\u001b[39m\n\u001b[32m     51\u001b[39m \u001b[38;5;129m@wraps\u001b[39m(func)\n\u001b[32m     52\u001b[39m \u001b[38;5;28;01mdef\u001b[39;00m\u001b[38;5;250m \u001b[39m\u001b[34mwrapper\u001b[39m(*args, **kwargs):\n\u001b[32m     53\u001b[39m     check_types(spec, *args, **kwargs)\n\u001b[32m---> \u001b[39m\u001b[32m54\u001b[39m     \u001b[38;5;28;01mreturn\u001b[39;00m \u001b[43mfunc\u001b[49m\u001b[43m(\u001b[49m\u001b[43m*\u001b[49m\u001b[43margs\u001b[49m\u001b[43m,\u001b[49m\u001b[43m \u001b[49m\u001b[43m*\u001b[49m\u001b[43m*\u001b[49m\u001b[43mkwargs\u001b[49m\u001b[43m)\u001b[49m\n",
      "\u001b[36mFile \u001b[39m\u001b[32m~/.local/share/mamba/envs/tello/lib/python3.13/site-packages/djitellopy/tello.py:487\u001b[39m, in \u001b[36mTello.send_control_command\u001b[39m\u001b[34m(self, command, timeout)\u001b[39m\n\u001b[32m    483\u001b[39m         \u001b[38;5;28;01mreturn\u001b[39;00m \u001b[38;5;28;01mTrue\u001b[39;00m\n\u001b[32m    485\u001b[39m     \u001b[38;5;28mself\u001b[39m.LOGGER.debug(\u001b[33m\"\u001b[39m\u001b[33mCommand attempt #\u001b[39m\u001b[38;5;132;01m{}\u001b[39;00m\u001b[33m failed for command: \u001b[39m\u001b[33m'\u001b[39m\u001b[38;5;132;01m{}\u001b[39;00m\u001b[33m'\u001b[39m\u001b[33m\"\u001b[39m.format(i, command))\n\u001b[32m--> \u001b[39m\u001b[32m487\u001b[39m \u001b[38;5;28;43mself\u001b[39;49m\u001b[43m.\u001b[49m\u001b[43mraise_result_error\u001b[49m\u001b[43m(\u001b[49m\u001b[43mcommand\u001b[49m\u001b[43m,\u001b[49m\u001b[43m \u001b[49m\u001b[43mresponse\u001b[49m\u001b[43m)\u001b[49m\n\u001b[32m    488\u001b[39m \u001b[38;5;28;01mreturn\u001b[39;00m \u001b[38;5;28;01mFalse\u001b[39;00m\n",
      "\u001b[36mFile \u001b[39m\u001b[32m~/.local/share/mamba/envs/tello/lib/python3.13/site-packages/djitellopy/enforce_types.py:54\u001b[39m, in \u001b[36menforce_types.<locals>.decorate.<locals>.wrapper\u001b[39m\u001b[34m(*args, **kwargs)\u001b[39m\n\u001b[32m     51\u001b[39m \u001b[38;5;129m@wraps\u001b[39m(func)\n\u001b[32m     52\u001b[39m \u001b[38;5;28;01mdef\u001b[39;00m\u001b[38;5;250m \u001b[39m\u001b[34mwrapper\u001b[39m(*args, **kwargs):\n\u001b[32m     53\u001b[39m     check_types(spec, *args, **kwargs)\n\u001b[32m---> \u001b[39m\u001b[32m54\u001b[39m     \u001b[38;5;28;01mreturn\u001b[39;00m \u001b[43mfunc\u001b[49m\u001b[43m(\u001b[49m\u001b[43m*\u001b[49m\u001b[43margs\u001b[49m\u001b[43m,\u001b[49m\u001b[43m \u001b[49m\u001b[43m*\u001b[49m\u001b[43m*\u001b[49m\u001b[43mkwargs\u001b[49m\u001b[43m)\u001b[49m\n",
      "\u001b[36mFile \u001b[39m\u001b[32m~/.local/share/mamba/envs/tello/lib/python3.13/site-packages/djitellopy/tello.py:529\u001b[39m, in \u001b[36mTello.raise_result_error\u001b[39m\u001b[34m(self, command, response)\u001b[39m\n\u001b[32m    525\u001b[39m \u001b[38;5;250m\u001b[39m\u001b[33;03m\"\"\"Used to reaise an error after an unsuccessful command\u001b[39;00m\n\u001b[32m    526\u001b[39m \u001b[33;03mInternal method, you normally wouldn't call this yourself.\u001b[39;00m\n\u001b[32m    527\u001b[39m \u001b[33;03m\"\"\"\u001b[39;00m\n\u001b[32m    528\u001b[39m tries = \u001b[32m1\u001b[39m + \u001b[38;5;28mself\u001b[39m.retry_count\n\u001b[32m--> \u001b[39m\u001b[32m529\u001b[39m \u001b[38;5;28;01mraise\u001b[39;00m TelloException(\u001b[33m\"\u001b[39m\u001b[33mCommand \u001b[39m\u001b[33m'\u001b[39m\u001b[38;5;132;01m{}\u001b[39;00m\u001b[33m'\u001b[39m\u001b[33m was unsuccessful for \u001b[39m\u001b[38;5;132;01m{}\u001b[39;00m\u001b[33m tries. Latest response:\u001b[39m\u001b[38;5;130;01m\\t\u001b[39;00m\u001b[33m'\u001b[39m\u001b[38;5;132;01m{}\u001b[39;00m\u001b[33m'\u001b[39m\u001b[33m\"\u001b[39m\n\u001b[32m    530\u001b[39m                      .format(command, tries, response))\n",
      "\u001b[31mTelloException\u001b[39m: Command 'takeoff' was unsuccessful for 4 tries. Latest response:\t'error'"
     ]
    }
   ],
   "source": [
    "# create event object from threading module (object = module.function())\n",
    "stream_ready = threading.Event()\n",
    "\n",
    "# Initialize my_drone as tello object, connect to it, and turn its video stream on.\n",
    "my_drone = tello.Tello() # object = instance.Class()\n",
    "my_drone.connect()\n",
    "my_drone.streamon()\n",
    "print(\"drone connected and stream on. Starting video stream thread.\\n\")\n",
    "\n",
    "# set stream_video as thread target\n",
    "stream_thread = threading.Thread(target=stream_video, args=(my_drone,))\n",
    "\n",
    "# Set thread as a daemon and start it\n",
    "stream_thread.daemon = True\n",
    "stream_thread.start()\n",
    "\n",
    "# Execute the flight routine\n",
    "flight_routine(my_drone)\n",
    "\n",
    "print(\"Flight routine ended. Rebooting drone now...\")\n",
    "\n",
    "# Reboot the drone at the end\n",
    "drone.reboot()"
   ]
  }
 ],
 "metadata": {
  "kernelspec": {
   "display_name": "tello",
   "language": "python",
   "name": "python3"
  },
  "language_info": {
   "codemirror_mode": {
    "name": "ipython",
    "version": 3
   },
   "file_extension": ".py",
   "mimetype": "text/x-python",
   "name": "python",
   "nbconvert_exporter": "python",
   "pygments_lexer": "ipython3",
   "version": "3.13.5"
  }
 },
 "nbformat": 4,
 "nbformat_minor": 5
}
