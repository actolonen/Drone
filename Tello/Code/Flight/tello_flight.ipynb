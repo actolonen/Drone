{
 "cells": [
  {
   "cell_type": "markdown",
   "id": "6b9466ef",
   "metadata": {},
   "source": [
    "# Tello drone test flight"
   ]
  },
  {
   "cell_type": "markdown",
   "id": "7ef07dc6",
   "metadata": {},
   "source": [
    "Libraries"
   ]
  },
  {
   "cell_type": "code",
   "execution_count": 1,
   "id": "199e41ea",
   "metadata": {},
   "outputs": [],
   "source": [
    "from djitellopy import tello"
   ]
  },
  {
   "cell_type": "markdown",
   "id": "d5b82872",
   "metadata": {},
   "source": [
    "Function for flight routine"
   ]
  },
  {
   "cell_type": "code",
   "execution_count": 2,
   "id": "fa032d49",
   "metadata": {},
   "outputs": [],
   "source": [
    "# basic flight routine function\n",
    "def basic_flight(my_drone):\n",
    "    my_drone.takeoff()\n",
    "    my_drone.rotate_clockwise(360)\n",
    "    my_drone.land()"
   ]
  },
  {
   "cell_type": "markdown",
   "id": "497c47a0",
   "metadata": {},
   "source": [
    "Main program"
   ]
  },
  {
   "cell_type": "code",
   "execution_count": 3,
   "id": "a60536ff",
   "metadata": {},
   "outputs": [
    {
     "name": "stderr",
     "output_type": "stream",
     "text": [
      "[INFO] tello.py - 129 - Tello instance was initialized. Host: '192.168.10.1'. Port: '8889'.\n",
      "[INFO] tello.py - 438 - Send command: 'command'\n",
      "[INFO] tello.py - 462 - Response command: 'ok'\n",
      "[INFO] tello.py - 438 - Send command: 'takeoff'\n"
     ]
    },
    {
     "name": "stdout",
     "output_type": "stream",
     "text": [
      "battery level = 72\n"
     ]
    },
    {
     "name": "stderr",
     "output_type": "stream",
     "text": [
      "[INFO] tello.py - 462 - Response takeoff: 'ok'\n",
      "[INFO] tello.py - 438 - Send command: 'cw 360'\n",
      "[INFO] tello.py - 462 - Response cw 360: 'ok'\n",
      "[INFO] tello.py - 438 - Send command: 'land'\n",
      "[INFO] tello.py - 462 - Response land: 'ok'\n"
     ]
    }
   ],
   "source": [
    "# main program\n",
    "\n",
    "# create instance of tello class\n",
    "my_drone = tello.Tello()\n",
    "\n",
    "# enter SDK mode to send commands\n",
    "my_drone.connect()\n",
    "\n",
    "# print battery level\n",
    "battery_level = my_drone.get_battery()\n",
    "print(f\"battery level = {battery_level}\")\n",
    "\n",
    "# execute flight routine\n",
    "basic_flight(my_drone)\n",
    "\n",
    "# end: cleans up resources. Forces land and turns off video\n",
    "my_drone.end()"
   ]
  }
 ],
 "metadata": {
  "kernelspec": {
   "display_name": "tello",
   "language": "python",
   "name": "python3"
  },
  "language_info": {
   "codemirror_mode": {
    "name": "ipython",
    "version": 3
   },
   "file_extension": ".py",
   "mimetype": "text/x-python",
   "name": "python",
   "nbconvert_exporter": "python",
   "pygments_lexer": "ipython3",
   "version": "3.13.5"
  }
 },
 "nbformat": 4,
 "nbformat_minor": 5
}
