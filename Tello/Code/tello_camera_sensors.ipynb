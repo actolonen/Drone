{
 "cells": [
  {
   "cell_type": "markdown",
   "id": "d0dae9d6",
   "metadata": {},
   "source": [
    "# Tello capture video and state (sensor data)\n",
    "\n",
    "Code to capture video and print sensor data to the video screen and a csv file\n",
    "\n",
    "## Tello sensor data\n",
    "\n",
    "### Data from inertial measurement unit (IMU)\n",
    "\n",
    "1. Position (degrees): pitch. roll. yaw\n",
    "\n",
    "2. Velocity (dm/s): vgx, vgy, vgz\n",
    "\n",
    "3. Acceleration (cm/s2): agx, agy, agz\n",
    "\n",
    "### Other sensor data\n",
    "\n",
    "1. Board temp (deg C): templ, temph\n",
    "\n",
    "2. Height relative to takeoff (cm)\n",
    "\n",
    "3. Battery level (percent)\n",
    "\n",
    "4. Height measured by barometer (m) "
   ]
  },
  {
   "cell_type": "markdown",
   "id": "39bb4cfa",
   "metadata": {},
   "source": [
    "Libraries"
   ]
  },
  {
   "cell_type": "code",
   "execution_count": 1,
   "id": "ac7d7959",
   "metadata": {},
   "outputs": [],
   "source": [
    "# Libraries\n",
    "from djitellopy import tello\n",
    "import cv2"
   ]
  },
  {
   "cell_type": "markdown",
   "id": "3064fbdd",
   "metadata": {},
   "source": [
    "Function to control video"
   ]
  },
  {
   "cell_type": "code",
   "execution_count": 2,
   "id": "bca21eab",
   "metadata": {},
   "outputs": [],
   "source": [
    "# Function to control video\n",
    "def tello_video(my_drone):\n",
    "    \"\"\" video for tello object\"\"\"\n",
    "    while True:\n",
    "        # get frame\n",
    "        frame = my_drone.get_frame_read().frame \n",
    "        # display frame\n",
    "        cv2.imshow(\"Camera\", frame) \n",
    "        # wait for 1 ms, break loop if 'q' pressed\n",
    "        if cv2.waitKey(1) & 0xFF == ord('q'):\n",
    "            break\n",
    "    cv2.destroyAllWindows()"
   ]
  },
  {
   "cell_type": "markdown",
   "id": "cf678a58",
   "metadata": {},
   "source": [
    "Function to record sensor data"
   ]
  },
  {
   "cell_type": "code",
   "execution_count": null,
   "id": "7426385a",
   "metadata": {},
   "outputs": [],
   "source": []
  },
  {
   "cell_type": "markdown",
   "id": "ca1cb588",
   "metadata": {},
   "source": [
    "Main program"
   ]
  },
  {
   "cell_type": "code",
   "execution_count": null,
   "id": "b1c740d3",
   "metadata": {},
   "outputs": [],
   "source": [
    "# initiate  Tello instance of tello object\n",
    "my_drone = tello.Tello()\n",
    "\n",
    "# establish connection with drone\n",
    "my_drone.connect()\n",
    "\n",
    "# print battery level\n",
    "battery_level = my_drone.get_battery()\n",
    "print(f\"battery level = {battery_level}\")\n",
    "\n",
    "# turn on video stream\n",
    "my_drone.streamon()\n",
    "\n",
    "# call tello_video function\n",
    "tello_video(my_drone)\n",
    "\n",
    "# drone lands, streamoff, stop instance\n",
    "my_drone.end()"
   ]
  }
 ],
 "metadata": {
  "kernelspec": {
   "display_name": "tello",
   "language": "python",
   "name": "python3"
  },
  "language_info": {
   "codemirror_mode": {
    "name": "ipython",
    "version": 3
   },
   "file_extension": ".py",
   "mimetype": "text/x-python",
   "name": "python",
   "nbconvert_exporter": "python",
   "pygments_lexer": "ipython3",
   "version": "3.13.2"
  }
 },
 "nbformat": 4,
 "nbformat_minor": 5
}
