{
 "cells": [
  {
   "cell_type": "markdown",
   "id": "d0dae9d6",
   "metadata": {},
   "source": [
    "# Tello capture video and state (sensor data)\n",
    "\n",
    "Code to capture video and print sensor data to the video screen and a csv file\n",
    "\n",
    "## Tello sensor data (see [manual](Data/tello_guide_SDK2.0.pdf))\n",
    "\n",
    "### Data from inertial measurement unit (IMU)\n",
    "\n",
    "1. Position in degrees: pitch, roll, yaw (see [here](https://howthingsfly.si.edu/media/roll-pitch-yaw) for a description of these terms)\n",
    "\n",
    "2. Velocity in dm/s: vgx, vgy, vgz\n",
    "\n",
    "3. Acceleration in cm/s2: agx, agy, agz\n",
    "\n",
    "### Other sensor data\n",
    "\n",
    "1. Board temp (deg C): templ, temph\n",
    "\n",
    "2. Height relative to takeoff (cm)\n",
    "\n",
    "3. Battery level (percent)\n",
    "\n",
    "4. Height measured by barometer (m) "
   ]
  },
  {
   "cell_type": "markdown",
   "id": "39bb4cfa",
   "metadata": {},
   "source": [
    "Libraries"
   ]
  },
  {
   "cell_type": "code",
   "execution_count": 4,
   "id": "ac7d7959",
   "metadata": {},
   "outputs": [],
   "source": [
    "# Libraries\n",
    "from djitellopy import tello\n",
    "import cv2"
   ]
  },
  {
   "cell_type": "markdown",
   "id": "cf678a58",
   "metadata": {},
   "source": [
    "Function to acquire IMU data"
   ]
  },
  {
   "cell_type": "code",
   "execution_count": 5,
   "id": "7426385a",
   "metadata": {},
   "outputs": [],
   "source": [
    "def get_imu_data(my_drone):\n",
    "        \"\"\"acquire IMU data and return as dictionary\"\"\"\n",
    "        # build dictionary of IMU data\n",
    "        imu_data = {\n",
    "                'pitch':str(my_drone.get_pitch()),\n",
    "                'roll':str(my_drone.get_roll()),\n",
    "                'yaw':str(my_drone.get_yaw()),\n",
    "                'vel_x':str(0.1 * my_drone.get_speed_x()), # meters per second\n",
    "                'vel_y':str(0.1 * my_drone.get_speed_y()), # meters per second\n",
    "                'vel_z':str(0.1 * my_drone.get_speed_z()), # meters per second\n",
    "                'acc_x':str(my_drone.get_acceleration_x()),\n",
    "                'acc_y':str(my_drone.get_acceleration_y()),\n",
    "                'acc_z':str(my_drone.get_acceleration_z())\n",
    "        }\n",
    "        return(imu_data)"
   ]
  },
  {
   "cell_type": "markdown",
   "id": "2d031226",
   "metadata": {},
   "source": [
    "Function to acquire other status data"
   ]
  },
  {
   "cell_type": "code",
   "execution_count": 6,
   "id": "4707e873",
   "metadata": {},
   "outputs": [],
   "source": [
    "def get_status_data(my_drone):\n",
    "    \"\"\"Acquire other status data and return as dictionary\"\"\"\n",
    "    status_data = {\n",
    "        'flight_time':my_drone.get_flight_time(),\n",
    "        'battery':my_drone.get_battery(),\n",
    "        'height':my_drone.get_height(),\n",
    "        'tof':my_drone.get_distance_tof(),\n",
    "        'temph':my_drone.get_highest_temperature(),\n",
    "        'barometer':my_drone.get_barometer()\n",
    "    }\n",
    "    return(status_data)"
   ]
  },
  {
   "cell_type": "markdown",
   "id": "4518bbe4",
   "metadata": {},
   "source": [
    "Function to display video with sensor data"
   ]
  },
  {
   "cell_type": "code",
   "execution_count": 7,
   "id": "14f66da2",
   "metadata": {},
   "outputs": [],
   "source": [
    "# Function to control video\n",
    "def tello_video(my_drone):\n",
    "    \"\"\"Video for tello object\"\"\"\n",
    "\n",
    "    while True:\n",
    "        # get IMU data \n",
    "        my_imu_data = get_imu_data(my_drone)\n",
    "\n",
    "        # get other sensor data \n",
    "        my_status_data = get_status_data(my_drone)\n",
    "\n",
    "        # get frame\n",
    "        frame = my_drone.get_frame_read().frame \n",
    "\n",
    "        # print sensor data to screen\n",
    "        cv2.putText(frame, \"Battery \" + str(my_status_data['battery']) + \" percent\", (10, 20), \n",
    "                cv2.FONT_HERSHEY_COMPLEX_SMALL, 1, (0, 234, 255), 1,2)\n",
    "\n",
    "        # display frame with status data\n",
    "        cv2.imshow(\"Camera\", frame) \n",
    "\n",
    "        # print all data out tsv file\n",
    "\n",
    "        # wait for 1 ms, break loop if 'q' pressed\n",
    "        if cv2.waitKey(1) & 0xFF == ord('q'):\n",
    "            break\n",
    "    \n",
    "    cv2.destroyAllWindows()"
   ]
  },
  {
   "cell_type": "markdown",
   "id": "ca1cb588",
   "metadata": {},
   "source": [
    "Main program"
   ]
  },
  {
   "cell_type": "code",
   "execution_count": 8,
   "id": "b1c740d3",
   "metadata": {},
   "outputs": [
    {
     "name": "stderr",
     "output_type": "stream",
     "text": [
      "[INFO] tello.py - 129 - Tello instance was initialized. Host: '192.168.10.1'. Port: '8889'.\n",
      "[INFO] tello.py - 438 - Send command: 'command'\n",
      "[INFO] tello.py - 462 - Response command: 'ok'\n",
      "[INFO] tello.py - 438 - Send command: 'streamon'\n",
      "[INFO] tello.py - 462 - Response streamon: 'ok'\n"
     ]
    },
    {
     "name": "stdout",
     "output_type": "stream",
     "text": [
      "battery level = 82\n"
     ]
    },
    {
     "name": "stderr",
     "output_type": "stream",
     "text": [
      "qt.qpa.plugin: Could not find the Qt platform plugin \"wayland\" in \"\"\n",
      "[INFO] tello.py - 438 - Send command: 'streamoff'\n",
      "[INFO] tello.py - 462 - Response streamoff: 'ok'\n"
     ]
    }
   ],
   "source": [
    "# initiate  Tello instance of tello object\n",
    "my_drone = tello.Tello()\n",
    "\n",
    "# establish connection with drone\n",
    "my_drone.connect()\n",
    "\n",
    "# print battery level\n",
    "battery_level = my_drone.get_battery()\n",
    "print(f\"battery level = {battery_level}\")\n",
    "\n",
    "# turn on video stream\n",
    "my_drone.streamon()\n",
    "\n",
    "# call tello_video function\n",
    "tello_video(my_drone)\n",
    "\n",
    "# drone lands, streamoff, stop instance\n",
    "my_drone.end()"
   ]
  }
 ],
 "metadata": {
  "kernelspec": {
   "display_name": "tello",
   "language": "python",
   "name": "python3"
  },
  "language_info": {
   "codemirror_mode": {
    "name": "ipython",
    "version": 3
   },
   "file_extension": ".py",
   "mimetype": "text/x-python",
   "name": "python",
   "nbconvert_exporter": "python",
   "pygments_lexer": "ipython3",
   "version": "3.13.2"
  }
 },
 "nbformat": 4,
 "nbformat_minor": 5
}
