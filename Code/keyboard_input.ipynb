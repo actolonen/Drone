{
 "cells": [
  {
   "cell_type": "markdown",
   "id": "da0e56c4",
   "metadata": {},
   "source": [
    "# Record keyboard input\n",
    "\n",
    "Record and print keyboard input from the use using pygame module."
   ]
  },
  {
   "cell_type": "markdown",
   "id": "c8c65331",
   "metadata": {},
   "source": [
    "Import libraries"
   ]
  },
  {
   "cell_type": "code",
   "execution_count": 18,
   "id": "dae3e39c",
   "metadata": {},
   "outputs": [],
   "source": [
    "import pygame"
   ]
  },
  {
   "cell_type": "markdown",
   "id": "06a22e84",
   "metadata": {},
   "source": [
    "Function to test if key is pressed"
   ]
  },
  {
   "cell_type": "code",
   "execution_count": 19,
   "id": "c2da639a",
   "metadata": {},
   "outputs": [],
   "source": [
    "def get_pressed_key():\n",
    "    \"\"\"Return the name of the key pressed, or None if no key is pressed.\"\"\"\n",
    "    for event in pygame.event.get():\n",
    "        if event.type == pygame.KEYDOWN:\n",
    "            return pygame.key.name(event.key)\n",
    "    return None"
   ]
  },
  {
   "cell_type": "markdown",
   "id": "39a1c839",
   "metadata": {},
   "source": [
    "Function to return value of key pressed"
   ]
  },
  {
   "cell_type": "markdown",
   "id": "2e830132",
   "metadata": {},
   "source": [
    "## Main program"
   ]
  },
  {
   "cell_type": "code",
   "execution_count": 20,
   "id": "33ba7d12",
   "metadata": {},
   "outputs": [
    {
     "name": "stdout",
     "output_type": "stream",
     "text": [
      "Key pressed: a\n",
      "Key pressed: a\n",
      "Key pressed: a\n",
      "Key pressed: l\n",
      "Key pressed: i\n",
      "Key pressed: a\n",
      "Key pressed: up\n",
      "Key pressed: up\n",
      "Key pressed: left\n",
      "Key pressed: left\n",
      "Key pressed: down\n",
      "Key pressed: down\n",
      "Key pressed: right\n",
      "Key pressed: right\n",
      "Key pressed: up\n",
      "Key pressed: up\n",
      "Key pressed: q\n"
     ]
    }
   ],
   "source": [
    "# initialize pygame modules (for keyboard input)\n",
    "pygame.init() \n",
    "\n",
    "window = pygame.display.set_mode((400, 400))\n",
    "\n",
    "running = True\n",
    "while running:\n",
    "    key = get_pressed_key()\n",
    "    if key:\n",
    "        print(f\"Key pressed: {key}\")\n",
    "        if key == 'q':\n",
    "            running = False\n",
    "    pygame.display.update()\n",
    "\n",
    "pygame.quit()"
   ]
  }
 ],
 "metadata": {
  "kernelspec": {
   "display_name": "tello",
   "language": "python",
   "name": "python3"
  },
  "language_info": {
   "codemirror_mode": {
    "name": "ipython",
    "version": 3
   },
   "file_extension": ".py",
   "mimetype": "text/x-python",
   "name": "python",
   "nbconvert_exporter": "python",
   "pygments_lexer": "ipython3",
   "version": "3.13.5"
  }
 },
 "nbformat": 4,
 "nbformat_minor": 5
}
