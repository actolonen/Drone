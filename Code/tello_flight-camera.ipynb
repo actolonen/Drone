{
 "cells": [
  {
   "cell_type": "code",
   "execution_count": 8,
   "id": "2db7fed1",
   "metadata": {},
   "outputs": [],
   "source": [
    "from djitellopy import Tello\n",
    "import cv2\n",
    "import time"
   ]
  },
  {
   "cell_type": "markdown",
   "id": "86dc72a3",
   "metadata": {},
   "source": [
    "Connect Tello drone and print battery level"
   ]
  },
  {
   "cell_type": "code",
   "execution_count": 9,
   "id": "08124a6d",
   "metadata": {},
   "outputs": [
    {
     "name": "stderr",
     "output_type": "stream",
     "text": [
      "[INFO] tello.py - 129 - Tello instance was initialized. Host: '192.168.10.1'. Port: '8889'.\n",
      "[INFO] tello.py - 438 - Send command: 'command'\n",
      "[INFO] tello.py - 462 - Response command: 'ok'\n"
     ]
    },
    {
     "name": "stdout",
     "output_type": "stream",
     "text": [
      "battery level = 60\n"
     ]
    }
   ],
   "source": [
    "# connect to drone\n",
    "me = Tello()\n",
    "me.connect()\n",
    "me.for_back_velocity = 0\n",
    "me.left_right_velocity = 0\n",
    "me.up_down_velocity = 0\n",
    "me.yaw_velocity = 0\n",
    "me.speed = 0\n",
    "\n",
    "battery_level = me.get_battery()\n",
    "print(f\"battery level = {battery_level}\")"
   ]
  },
  {
   "cell_type": "markdown",
   "id": "2ab45bee",
   "metadata": {},
   "source": [
    "Test camera"
   ]
  },
  {
   "cell_type": "code",
   "execution_count": null,
   "id": "d83c5634",
   "metadata": {},
   "outputs": [],
   "source": [
    "me.streamoff() # stop video stream\n",
    "me.streamon()  # start video stream\n",
    "\n",
    "start_time = time.time()\n",
    "width = 320\n",
    "height = 240\n",
    "\n",
    "while time.time() - start_time < 10:\n",
    "    frame_read = me.get_frame_read()\n",
    "    my_frame = frame_read.frame\n",
    "    img = cv2.resize(my_frame, (width, height))\n",
    "    cv2.imshow(\"Tello_Camera\", img)\n",
    "\n",
    "me.streamoff()"
   ]
  },
  {
   "cell_type": "markdown",
   "id": "bb49bbd3",
   "metadata": {},
   "source": [
    "Drone take off"
   ]
  },
  {
   "cell_type": "code",
   "execution_count": 11,
   "id": "115141c1",
   "metadata": {},
   "outputs": [
    {
     "name": "stderr",
     "output_type": "stream",
     "text": [
      "[INFO] tello.py - 438 - Send command: 'streamon'\n",
      "[INFO] tello.py - 462 - Response streamon: 'ok'\n"
     ]
    },
    {
     "ename": "OSError",
     "evalue": "[Errno 98] Address already in use: 'udp://@0.0.0.0:11111'",
     "output_type": "error",
     "traceback": [
      "\u001b[31m---------------------------------------------------------------------------\u001b[39m",
      "\u001b[31mOSError\u001b[39m                                   Traceback (most recent call last)",
      "\u001b[36mCell\u001b[39m\u001b[36m \u001b[39m\u001b[32mIn[11]\u001b[39m\u001b[32m, line 8\u001b[39m\n\u001b[32m      5\u001b[39m me.streamon()  \u001b[38;5;66;03m# start video stream\u001b[39;00m\n\u001b[32m      7\u001b[39m \u001b[38;5;28;01mwhile\u001b[39;00m \u001b[38;5;28;01mTrue\u001b[39;00m:\n\u001b[32m----> \u001b[39m\u001b[32m8\u001b[39m     frame_read = \u001b[43mme\u001b[49m\u001b[43m.\u001b[49m\u001b[43mget_frame_read\u001b[49m\u001b[43m(\u001b[49m\u001b[43m)\u001b[49m\n\u001b[32m      9\u001b[39m     my_frame = frame_read.frame\n\u001b[32m     10\u001b[39m     img = cv2.resize(my_frame, (width, height))\n",
      "\u001b[36mFile \u001b[39m\u001b[32m~/miniconda3/envs/tello/lib/python3.13/site-packages/djitellopy/enforce_types.py:54\u001b[39m, in \u001b[36menforce_types.<locals>.decorate.<locals>.wrapper\u001b[39m\u001b[34m(*args, **kwargs)\u001b[39m\n\u001b[32m     51\u001b[39m \u001b[38;5;129m@wraps\u001b[39m(func)\n\u001b[32m     52\u001b[39m \u001b[38;5;28;01mdef\u001b[39;00m\u001b[38;5;250m \u001b[39m\u001b[34mwrapper\u001b[39m(*args, **kwargs):\n\u001b[32m     53\u001b[39m     check_types(spec, *args, **kwargs)\n\u001b[32m---> \u001b[39m\u001b[32m54\u001b[39m     \u001b[38;5;28;01mreturn\u001b[39;00m \u001b[43mfunc\u001b[49m\u001b[43m(\u001b[49m\u001b[43m*\u001b[49m\u001b[43margs\u001b[49m\u001b[43m,\u001b[49m\u001b[43m \u001b[49m\u001b[43m*\u001b[49m\u001b[43m*\u001b[49m\u001b[43mkwargs\u001b[49m\u001b[43m)\u001b[49m\n",
      "\u001b[36mFile \u001b[39m\u001b[32m~/miniconda3/envs/tello/lib/python3.13/site-packages/djitellopy/tello.py:421\u001b[39m, in \u001b[36mTello.get_frame_read\u001b[39m\u001b[34m(self, with_queue, max_queue_len)\u001b[39m\n\u001b[32m    419\u001b[39m \u001b[38;5;28;01mif\u001b[39;00m \u001b[38;5;28mself\u001b[39m.background_frame_read \u001b[38;5;129;01mis\u001b[39;00m \u001b[38;5;28;01mNone\u001b[39;00m:\n\u001b[32m    420\u001b[39m     address = \u001b[38;5;28mself\u001b[39m.get_udp_video_address()\n\u001b[32m--> \u001b[39m\u001b[32m421\u001b[39m     \u001b[38;5;28mself\u001b[39m.background_frame_read = \u001b[43mBackgroundFrameRead\u001b[49m\u001b[43m(\u001b[49m\u001b[38;5;28;43mself\u001b[39;49m\u001b[43m,\u001b[49m\u001b[43m \u001b[49m\u001b[43maddress\u001b[49m\u001b[43m,\u001b[49m\u001b[43m \u001b[49m\u001b[43mwith_queue\u001b[49m\u001b[43m,\u001b[49m\u001b[43m \u001b[49m\u001b[43mmax_queue_len\u001b[49m\u001b[43m)\u001b[49m\n\u001b[32m    422\u001b[39m     \u001b[38;5;28mself\u001b[39m.background_frame_read.start()\n\u001b[32m    423\u001b[39m \u001b[38;5;28;01mreturn\u001b[39;00m \u001b[38;5;28mself\u001b[39m.background_frame_read\n",
      "\u001b[36mFile \u001b[39m\u001b[32m~/miniconda3/envs/tello/lib/python3.13/site-packages/djitellopy/tello.py:1049\u001b[39m, in \u001b[36mBackgroundFrameRead.__init__\u001b[39m\u001b[34m(self, tello, address, with_queue, maxsize)\u001b[39m\n\u001b[32m   1047\u001b[39m \u001b[38;5;28;01mtry\u001b[39;00m:\n\u001b[32m   1048\u001b[39m     Tello.LOGGER.debug(\u001b[33m'\u001b[39m\u001b[33mtrying to grab video frames...\u001b[39m\u001b[33m'\u001b[39m)\n\u001b[32m-> \u001b[39m\u001b[32m1049\u001b[39m     \u001b[38;5;28mself\u001b[39m.container = \u001b[43mav\u001b[49m\u001b[43m.\u001b[49m\u001b[43mopen\u001b[49m\u001b[43m(\u001b[49m\u001b[38;5;28;43mself\u001b[39;49m\u001b[43m.\u001b[49m\u001b[43maddress\u001b[49m\u001b[43m,\u001b[49m\u001b[43m \u001b[49m\u001b[43mtimeout\u001b[49m\u001b[43m=\u001b[49m\u001b[43m(\u001b[49m\u001b[43mTello\u001b[49m\u001b[43m.\u001b[49m\u001b[43mFRAME_GRAB_TIMEOUT\u001b[49m\u001b[43m,\u001b[49m\u001b[43m \u001b[49m\u001b[38;5;28;43;01mNone\u001b[39;49;00m\u001b[43m)\u001b[49m\u001b[43m)\u001b[49m\n\u001b[32m   1050\u001b[39m \u001b[38;5;28;01mexcept\u001b[39;00m av.error.ExitError:\n\u001b[32m   1051\u001b[39m     \u001b[38;5;28;01mraise\u001b[39;00m TelloException(\u001b[33m'\u001b[39m\u001b[33mFailed to grab video frames from video stream\u001b[39m\u001b[33m'\u001b[39m)\n",
      "\u001b[36mFile \u001b[39m\u001b[32m~/miniconda3/envs/tello/lib/python3.13/site-packages/av/container/core.pyx:418\u001b[39m, in \u001b[36mav.container.core.open\u001b[39m\u001b[34m()\u001b[39m\n",
      "\u001b[36mFile \u001b[39m\u001b[32m~/miniconda3/envs/tello/lib/python3.13/site-packages/av/container/core.pyx:283\u001b[39m, in \u001b[36mav.container.core.Container.__cinit__\u001b[39m\u001b[34m()\u001b[39m\n",
      "\u001b[36mFile \u001b[39m\u001b[32m~/miniconda3/envs/tello/lib/python3.13/site-packages/av/container/core.pyx:303\u001b[39m, in \u001b[36mav.container.core.Container.err_check\u001b[39m\u001b[34m()\u001b[39m\n",
      "\u001b[36mFile \u001b[39m\u001b[32m~/miniconda3/envs/tello/lib/python3.13/site-packages/av/error.pyx:424\u001b[39m, in \u001b[36mav.error.err_check\u001b[39m\u001b[34m()\u001b[39m\n",
      "\u001b[31mOSError\u001b[39m: [Errno 98] Address already in use: 'udp://@0.0.0.0:11111'"
     ]
    }
   ],
   "source": [
    "startCounter = 0\n",
    "width = 320\n",
    "height = 240\n",
    "\n",
    "me.streamon()  # start video stream\n",
    "\n",
    "while True:\n",
    "    frame_read = me.get_frame_read()\n",
    "    my_frame = frame_read.frame\n",
    "    img = cv2.resize(my_frame, (width, height))\n",
    "    cv2.imshow(\"my_camera\", img)\n",
    "    \n",
    "    if startCounter == 0:\n",
    "        me.takeoff()\n",
    "        me.move_left(20)\n",
    "        me.rotate_clockwise(90)\n",
    "        startCounter == 1\n",
    "    \n",
    "    if cv2.waitKey(1) & 0xFF == ord('q'):\n",
    "        me.land()\n",
    "        break"
   ]
  },
  {
   "cell_type": "code",
   "execution_count": null,
   "id": "11f597c6",
   "metadata": {},
   "outputs": [],
   "source": []
  }
 ],
 "metadata": {
  "kernelspec": {
   "display_name": "tello",
   "language": "python",
   "name": "python3"
  },
  "language_info": {
   "codemirror_mode": {
    "name": "ipython",
    "version": 3
   },
   "file_extension": ".py",
   "mimetype": "text/x-python",
   "name": "python",
   "nbconvert_exporter": "python",
   "pygments_lexer": "ipython3",
   "version": "3.13.2"
  }
 },
 "nbformat": 4,
 "nbformat_minor": 5
}
